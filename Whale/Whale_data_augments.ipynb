{
 "cells": [
  {
   "cell_type": "code",
   "execution_count": 1,
   "metadata": {
    "scrolled": true
   },
   "outputs": [
    {
     "name": "stderr",
     "output_type": "stream",
     "text": [
      "Using TensorFlow backend.\n"
     ]
    }
   ],
   "source": [
    "import cv2\n",
    "import numpy as np\n",
    "import os\n",
    "import pandas\n",
    "import sys\n",
    "import keras\n",
    "import pytesseract\n",
    "from matplotlib import pyplot as plt\n",
    "from shutil import copyfile\n",
    "from PIL import Image, ImageChops\n",
    "import PIL.ExifTags\n",
    "import imutils\n",
    "from random import randint\n",
    "from skimage import transform\n",
    "import random"
   ]
  },
  {
   "cell_type": "code",
   "execution_count": 2,
   "metadata": {},
   "outputs": [],
   "source": [
    "def flip_image(origdir,flippeddir,file,i):\n",
    "    image = cv2.imread(origdir + \"/\" + file,0)\n",
    "    # Try to randomly flip between horizontal and vertical flips.\n",
    "    #Numbers favor horizontal\n",
    "    integer =  randint(0,2)\n",
    "    if integer == 0:\n",
    "        flipped_img = cv2.flip(image, 0)\n",
    "    else:\n",
    "        flipped_img = cv2.flip(image, 1)\n",
    "    \n",
    "    cv2.imwrite(flippeddir + \"/\" + str(i) + \"-\" + file,flipped_img)"
   ]
  },
  {
   "cell_type": "code",
   "execution_count": 3,
   "metadata": {},
   "outputs": [],
   "source": [
    "def add_noise(origdir,noisedir,file,i):\n",
    "    image = cv2.imread(origdir + \"/\" + file,0)\n",
    "    sigma = randint(20, 50)\n",
    "    \n",
    "    temp_image = np.float64(np.copy(image))\n",
    "    h = temp_image.shape[0]\n",
    "    w = temp_image.shape[1]\n",
    "    noise = np.random.randn(h, w) * sigma\n",
    "\n",
    "    noisy_image = np.zeros(temp_image.shape, np.float64)\n",
    "    if len(temp_image.shape) == 2:\n",
    "        noisy_image = temp_image + noise\n",
    "    else:\n",
    "        noisy_image[:,:,0] = temp_image[:,:,0] + noise\n",
    "        noisy_image[:,:,1] = temp_image[:,:,1] + noise\n",
    "        noisy_image[:,:,2] = temp_image[:,:,2] + noise\n",
    "        \n",
    "    cv2.imwrite(noisedir + \"/\" + str(i) + \"-\" + file,noisy_image)"
   ]
  },
  {
   "cell_type": "code",
   "execution_count": 4,
   "metadata": {},
   "outputs": [],
   "source": [
    "def random_rotate(origdir,randomrotatedir,file,i):\n",
    "    image = cv2.imread(origdir + \"/\" + file,0)\n",
    "    angle =  randint(-10,10)\n",
    "    rotated = imutils.rotate_bound(image, angle)\n",
    "    cv2.imwrite(randomrotatedir + \"/\" + str(i) + \"-\" + file,rotated)"
   ]
  },
  {
   "cell_type": "code",
   "execution_count": 5,
   "metadata": {},
   "outputs": [],
   "source": [
    "def scale_in(origdir,scaleindir,file,i):\n",
    "    image = cv2.imread(origdir + \"/\" + file,0)\n",
    "    #randomized the scaling\n",
    "    scale = random.uniform(0.1, 0.9)\n",
    "    height, width = image.shape\n",
    "    scale_out = transform.rescale(image, scale=scale, mode='constant')\n",
    "    #rescale Image after scale in\n",
    "    resized_image = cv2.resize(scale_out, (width, height))\n",
    "    cv2.imwrite(scaleindir + \"/\" + str(i) + \"-\" + file,resized_image)"
   ]
  },
  {
   "cell_type": "code",
   "execution_count": 6,
   "metadata": {},
   "outputs": [],
   "source": [
    "def scale_out(origdir,scaleoutdir,file,i):\n",
    "    image = cv2.imread(origdir + \"/\" + file,0)\n",
    "    #randomized the scaling\n",
    "    scale = random.uniform(1.1, 2.2)\n",
    "    height, width = image.shape\n",
    "    scale_out = transform.rescale(image, scale=scale, mode='constant')\n",
    "    #rescale Image after scale in\n",
    "    resized_image = cv2.resize(scale_out, (width, height))\n",
    "    cv2.imwrite(scaleoutdir + \"/\" + str(i) + \"-\" + file,resized_image)"
   ]
  },
  {
   "cell_type": "code",
   "execution_count": 11,
   "metadata": {},
   "outputs": [],
   "source": [
    "# Augment Data\n",
    "augment_dir = \"/home/james/Kaggle/Whale/Data/train/augment\"\n",
    "origdir = \"/home/james/Kaggle/Whale/Data/train/augment/1\"\n",
    "combineddir = \"/home/james/Kaggle/Whale/Data/train/augment/combined\"\n",
    "validdir = \"/home/james/Kaggle/Whale/Data/train/augment/valid\""
   ]
  },
  {
   "cell_type": "code",
   "execution_count": 12,
   "metadata": {},
   "outputs": [],
   "source": [
    "filenames = os.listdir(origdir)\n",
    "filenames.sort()"
   ]
  },
  {
   "cell_type": "code",
   "execution_count": 9,
   "metadata": {},
   "outputs": [],
   "source": [
    "#iterations = 9\n",
    "##Augment the data\n",
    "#for i in range(iterations):\n",
    "#    for filename in filenames:\n",
    "#        seed = randint(1,10)\n",
    "#        if seed == 1:\n",
    "#            # Just copy the image\n",
    "#            copyfile(origdir + \"/\" + filename, combineddir + \"/\" + str(i) + \"-\"+ filename)\n",
    "#        #These are more valuable, so do more of them\n",
    "#        elif seed == 2 or seed == 7 or seed == 8:\n",
    "#            #Add Random Noise to image\n",
    "##            add_noise(origdir,combineddir,filename,i)\n",
    "#        elif seed == 3:\n",
    "#            #Randomly rotate image\n",
    "#            random_rotate(origdir,combineddir,filename,i)\n",
    "#        elif seed == 4 or seed == 9:\n",
    "#            #Randomly Scale in and resize image\n",
    "#            scale_in(origdir,combineddir,filename,i)\n",
    "#        elif seed == 5 or seed == 10:\n",
    "#            #Randomly Scale in and resize image\n",
    "#            scale_out(origdir,combineddir,filename,i)\n",
    "#        elif seed == 6:\n",
    "#            #Randomly flip vertical/horizontal\n",
    "#            flip_image(origdir,combineddir,filename,i)"
   ]
  },
  {
   "cell_type": "code",
   "execution_count": 13,
   "metadata": {},
   "outputs": [],
   "source": [
    "iterations = 2\n",
    "#Create some validation data\n",
    "for i in range(iterations):\n",
    "    for filename in filenames:\n",
    "        seed = randint(1,10)\n",
    "        #These are more valuable, so do more of them\n",
    "        if seed == 2 or seed == 7 or seed == 8:\n",
    "            #Add Random Noise to image\n",
    "            add_noise(origdir,validdir,filename,i)\n",
    "        elif seed == 3 or seed == 1:\n",
    "            #Randomly rotate image\n",
    "            random_rotate(origdir,validdir,filename,i)\n",
    "        elif seed == 4 or seed == 9:\n",
    "            #Randomly Scale in and resize image\n",
    "            scale_in(origdir,validdir,filename,i)\n",
    "        elif seed == 5 or seed == 10:\n",
    "            #Randomly Scale in and resize image\n",
    "            scale_out(origdir,validdir,filename,i)\n",
    "        elif seed == 6:\n",
    "            #Randomly flip vertical/horizontal\n",
    "            flip_image(origdir,validdir,filename,i)"
   ]
  },
  {
   "cell_type": "code",
   "execution_count": null,
   "metadata": {},
   "outputs": [],
   "source": []
  },
  {
   "cell_type": "code",
   "execution_count": null,
   "metadata": {},
   "outputs": [],
   "source": []
  },
  {
   "cell_type": "code",
   "execution_count": null,
   "metadata": {},
   "outputs": [],
   "source": []
  },
  {
   "cell_type": "code",
   "execution_count": null,
   "metadata": {},
   "outputs": [],
   "source": []
  }
 ],
 "metadata": {
  "kernelspec": {
   "display_name": "Python 3",
   "language": "python",
   "name": "python3"
  },
  "language_info": {
   "codemirror_mode": {
    "name": "ipython",
    "version": 3
   },
   "file_extension": ".py",
   "mimetype": "text/x-python",
   "name": "python",
   "nbconvert_exporter": "python",
   "pygments_lexer": "ipython3",
   "version": "3.6.6"
  }
 },
 "nbformat": 4,
 "nbformat_minor": 2
}
